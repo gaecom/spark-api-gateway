{
  "cells": [
    {
      "cell_type": "markdown",
      "metadata": {
        "id": "M_L2aj1qikFt"
      },
      "source": [
        "# LangChain应用集成讯飞星火认知大模型"
      ]
    },
    {
      "cell_type": "markdown",
      "metadata": {
        "id": "zAcXk7DNikFv"
      },
      "source": [
        "## 集成指南\n",
        "\n",
        "讯飞星火认知大模型是国内领先的大模型，拥有跨领域的知识和语言理解能力，能够完成问答对话和文学创作等任务。星火大模型持续从海量文本数据和大规模语法知识中学习进化，实现从提出问题、规划问题到解决问题的全流程闭环。\n",
        "\n",
        "星火大模型通过API提供访问。您可以在[https://xinghuo.xfyun.cn/sparkapi](https://dub.sh/xinghuo)申请API访问。\n",
        "\n",
        "讯飞星火的**认知大模型**聊天补全（chat completion）利用了不同于OpenAI的机制，它通过WebSocket提供访问。本指南向您演示如何通过FastAPI来提供OpenAI接口协议兼容的星火认知大模型接口，通过此方式，我们能够在**LangChain**应用中使用**星火认知大模型**。\n",
        "\n",
        "[spark-api-gateway](https://github.com/sugarforever/spark-api-gateway)正是本示例所使用的API Gateway，通过该Gateway提供与OpenAI接口协议兼容的API。spark-api-gateway目前支持如下聊天补全API：\n",
        "\n",
        "- POST /v1/chat/completions\n",
        "\n",
        "### OpenAI Vision模型\n",
        "\n",
        "OpenAI的Vision模型是通过聊天补全API提供服务的，请参考官方文档[OpenAI - Vision](https://platform.openai.com/docs/guides/vision)。\n",
        "\n",
        "请求示例如下：\n",
        "\n",
        "```shell\n",
        "curl https://api.openai.com/v1/chat/completions \\\n",
        "  -H \"Content-Type: application/json\" \\\n",
        "  -H \"Authorization: Bearer $OPENAI_API_KEY\" \\\n",
        "  -d '{\n",
        "    \"model\": \"gpt-4-vision-preview\",\n",
        "    \"messages\": [\n",
        "      {\n",
        "        \"role\": \"user\",\n",
        "        \"content\": [\n",
        "          {\n",
        "            \"type\": \"text\",\n",
        "            \"text\": \"What’s in this image?\"\n",
        "          },\n",
        "          {\n",
        "            \"type\": \"image_url\",\n",
        "            \"image_url\": {\n",
        "              \"url\": \"https://upload.wikimedia.org/wikipedia/commons/thumb/d/dd/Gfp-wisconsin-madison-the-nature-boardwalk.jpg/2560px-Gfp-wisconsin-madison-the-nature-boardwalk.jpg\"\n",
        "            }\n",
        "          }\n",
        "        ]\n",
        "      }\n",
        "    ],\n",
        "    \"max_tokens\": 300\n",
        "  }'\n",
        "```\n",
        "\n",
        "### Spark API网关\n",
        "\n",
        "科大讯飞星火大模型的图片理解API独立于文本补全，其请求地址为：\n",
        "\n",
        "```\n",
        "wss://spark-api.cn-huabei-1.xf-yun.com/v2.1/image\n",
        "```\n",
        "\n",
        "为提供统一的访问体验，Spark API Gateway在 `/v1/chat/completions` 实现了对图片理解API的支持。开发者或用户可以通过OpenAI请求兼容的数据向星火大模型发送请求。示例请求如下：\n",
        "\n",
        "```shell\n",
        "curl --location 'https://sparkai-gateway.vercel.app/v1/chat/completions' \\\n",
        "--header 'Content-Type: application/json' \\\n",
        "--data '{\n",
        "    \"messages\": [\n",
        "        {\n",
        "            \"role\": \"user\",\n",
        "            \"content\": [\n",
        "                {\n",
        "                    \"type\": \"image_url\",\n",
        "                    \"image_url\": {\n",
        "                        \"url\": \"https://pbs.twimg.com/media/F_8fhwIWQAAMHe5?format=jpg&name=large\"\n",
        "                    }\n",
        "                },\n",
        "                {\n",
        "                    \"type\": \"text\",\n",
        "                    \"text\": \"这张图里的标志是什么？\"\n",
        "                }\n",
        "            ]\n",
        "        }\n",
        "    ],\n",
        "    \"model\": \"vision\",\n",
        "    \"max_tokens\": null,\n",
        "    \"stream\": false,\n",
        "    \"n\": 1,\n",
        "    \"temperature\": 0.7,\n",
        "    \"version\": \"v2.1\"\n",
        "}'\n",
        "```"
      ]
    },
    {
      "cell_type": "code",
      "execution_count": 6,
      "metadata": {
        "id": "HzatfO8qikFw",
        "outputId": "e7908644-fc5b-4169-e903-0f8d55443757",
        "colab": {
          "base_uri": "https://localhost:8080/"
        }
      },
      "outputs": [
        {
          "output_type": "stream",
          "name": "stdout",
          "text": [
            "\u001b[2K     \u001b[90m━━━━━━━━━━━━━━━━━━━━━━━━━━━━━━━━━━━━━━━━\u001b[0m \u001b[32m220.8/220.8 kB\u001b[0m \u001b[31m4.6 MB/s\u001b[0m eta \u001b[36m0:00:00\u001b[0m\n",
            "\u001b[2K     \u001b[90m━━━━━━━━━━━━━━━━━━━━━━━━━━━━━━━━━━━━━━━━\u001b[0m \u001b[32m75.0/75.0 kB\u001b[0m \u001b[31m7.8 MB/s\u001b[0m eta \u001b[36m0:00:00\u001b[0m\n",
            "\u001b[2K     \u001b[90m━━━━━━━━━━━━━━━━━━━━━━━━━━━━━━━━━━━━━━━━\u001b[0m \u001b[32m76.9/76.9 kB\u001b[0m \u001b[31m7.9 MB/s\u001b[0m eta \u001b[36m0:00:00\u001b[0m\n",
            "\u001b[2K     \u001b[90m━━━━━━━━━━━━━━━━━━━━━━━━━━━━━━━━━━━━━━━━\u001b[0m \u001b[32m58.3/58.3 kB\u001b[0m \u001b[31m6.3 MB/s\u001b[0m eta \u001b[36m0:00:00\u001b[0m\n",
            "\u001b[?25h\u001b[31mERROR: pip's dependency resolver does not currently take into account all the packages that are installed. This behaviour is the source of the following dependency conflicts.\n",
            "llmx 0.0.15a0 requires cohere, which is not installed.\n",
            "llmx 0.0.15a0 requires tiktoken, which is not installed.\u001b[0m\u001b[31m\n",
            "\u001b[0m"
          ]
        }
      ],
      "source": [
        "! pip install langchain openai -q -U"
      ]
    },
    {
      "cell_type": "markdown",
      "metadata": {
        "id": "3YaJN89FikFx"
      },
      "source": [
        "## 示例1 - 简单的聊天补全"
      ]
    },
    {
      "cell_type": "code",
      "execution_count": null,
      "metadata": {
        "id": "MELPKF-aikFx"
      },
      "outputs": [],
      "source": [
        "from langchain.chat_models import ChatOpenAI\n",
        "\n",
        "spark_chat = ChatOpenAI(openai_api_base=\"https://sparkai-gateway.vercel.app/v1\", openai_api_key=\"sk-xxx\")"
      ]
    },
    {
      "cell_type": "code",
      "execution_count": null,
      "metadata": {
        "id": "6w4utQCFikFx"
      },
      "outputs": [],
      "source": [
        "from langchain.schema.messages import HumanMessage, SystemMessage\n",
        "from langchain.text_splitter import CharacterTextSplitter, RecursiveCharacterTextSplitter\n",
        "messages = [\n",
        "    HumanMessage(content=\"大语言模型的理论基础是什么？\"),\n",
        "]"
      ]
    },
    {
      "cell_type": "code",
      "execution_count": null,
      "metadata": {
        "id": "1YyJ3SJmikFx",
        "outputId": "0184952b-f53a-4d0b-c3cd-2d69bbc47c70"
      },
      "outputs": [
        {
          "data": {
            "text/plain": [
              "AIMessage(content='大语言模型的理论基础是深度学习。大语言模型是深度学习的应用之一，尤其在自然语言处理(NLP)领域。这些模型的目标是理解和生成人类语言。为了实现这个目标，模型需要在大量文本数据上进行训练，以学习语言的各种模式和结构。')"
            ]
          },
          "execution_count": 35,
          "metadata": {},
          "output_type": "execute_result"
        }
      ],
      "source": [
        "spark_chat.invoke(messages)"
      ]
    },
    {
      "cell_type": "markdown",
      "metadata": {
        "id": "1GbWGJSZikFx"
      },
      "source": [
        "## 示例2 - LLMChain使用星火认知大模型"
      ]
    },
    {
      "cell_type": "code",
      "execution_count": null,
      "metadata": {
        "id": "qA6xqj1QikFz"
      },
      "outputs": [],
      "source": [
        "\n",
        "from langchain.memory import ConversationBufferMemory\n",
        "from langchain.prompts import (\n",
        "    ChatPromptTemplate,\n",
        "    HumanMessagePromptTemplate,\n",
        "    MessagesPlaceholder,\n",
        ")\n",
        "prompt = ChatPromptTemplate.from_messages(\n",
        "    [\n",
        "        MessagesPlaceholder(variable_name=\"chat_history\"),\n",
        "        HumanMessagePromptTemplate.from_template(\"{human_input}\")\n",
        "    ]\n",
        ")\n",
        "\n",
        "memory = ConversationBufferMemory(memory_key=\"chat_history\", return_messages=True)"
      ]
    },
    {
      "cell_type": "code",
      "execution_count": null,
      "metadata": {
        "id": "IYlUq7uGikFz"
      },
      "outputs": [],
      "source": [
        "from langchain.chains import LLMChain\n",
        "chat_llm_chain = LLMChain(\n",
        "    llm=spark_chat,\n",
        "    prompt=prompt,\n",
        "    verbose=True,\n",
        "    memory=memory,\n",
        ")"
      ]
    },
    {
      "cell_type": "code",
      "execution_count": null,
      "metadata": {
        "id": "DJabZ3JZikF0",
        "outputId": "7b9763bd-7dab-4a95-a5fa-b5ef7aef4237"
      },
      "outputs": [
        {
          "name": "stdout",
          "output_type": "stream",
          "text": [
            "\n",
            "\n",
            "\u001b[1m> Entering new LLMChain chain...\u001b[0m\n",
            "Prompt after formatting:\n",
            "\u001b[32;1m\u001b[1;3mHuman: 你是谁？\u001b[0m\n",
            "\n",
            "\u001b[1m> Finished chain.\u001b[0m\n"
          ]
        },
        {
          "data": {
            "text/plain": [
              "'您好，我是科大讯飞研发的认知智能大模型，我的名字叫讯飞星火认知大模型。我可以和人类进行自然交流，解答问题，高效完成各领域认知智能需求。'"
            ]
          },
          "execution_count": 38,
          "metadata": {},
          "output_type": "execute_result"
        }
      ],
      "source": [
        "chat_llm_chain.predict(human_input=\"你是谁？\")"
      ]
    },
    {
      "cell_type": "code",
      "execution_count": null,
      "metadata": {
        "id": "iOCqchbpikF0",
        "outputId": "f058c42e-b7a6-4fb9-cd95-0faf30fa2915"
      },
      "outputs": [
        {
          "name": "stdout",
          "output_type": "stream",
          "text": [
            "\n",
            "\n",
            "\u001b[1m> Entering new LLMChain chain...\u001b[0m\n",
            "Prompt after formatting:\n",
            "\u001b[32;1m\u001b[1;3mHuman: 你是谁？\n",
            "AI: 您好，我是科大讯飞研发的认知智能大模型，我的名字叫讯飞星火认知大模型。我可以和人类进行自然交流，解答问题，高效完成各领域认知智能需求。\n",
            "Human: 请解释第一性原理\u001b[0m\n",
            "\n",
            "\u001b[1m> Finished chain.\u001b[0m\n"
          ]
        },
        {
          "data": {
            "text/plain": [
              "'第一性原理是指，回归事物最基本的条件，将其拆分成各要素进行解构分析，从而找到实现目标最优路径的方法。  该原理源于古希腊哲学家亚里士多德提出的一个哲学观点：“每个系统中存在一个最基本的命题，它不能被违背或删除。” \\n\\n这个名词被炒得很火主要得益于“钢铁侠”埃隆·马斯克(特斯拉汽车CEO)。他曾在采访中提到自己特别推崇“第一性原理”思考法：“通过第一性原理，我把事情升华到最根本的真理，然后从最核心处开始推理......”'"
            ]
          },
          "execution_count": 39,
          "metadata": {},
          "output_type": "execute_result"
        }
      ],
      "source": [
        "chat_llm_chain.predict(human_input=\"请解释第一性原理\")"
      ]
    },
    {
      "cell_type": "code",
      "execution_count": null,
      "metadata": {
        "id": "OxBsaat0ikF0",
        "outputId": "5f15d567-5b6e-4eef-9b76-3b97fb29538d"
      },
      "outputs": [
        {
          "name": "stdout",
          "output_type": "stream",
          "text": [
            "\n",
            "\n",
            "\u001b[1m> Entering new LLMChain chain...\u001b[0m\n",
            "Prompt after formatting:\n",
            "\u001b[32;1m\u001b[1;3mHuman: 你是谁？\n",
            "AI: 您好，我是科大讯飞研发的认知智能大模型，我的名字叫讯飞星火认知大模型。我可以和人类进行自然交流，解答问题，高效完成各领域认知智能需求。\n",
            "Human: 请解释第一性原理\n",
            "AI: 第一性原理是指，回归事物最基本的条件，将其拆分成各要素进行解构分析，从而找到实现目标最优路径的方法。  该原理源于古希腊哲学家亚里士多德提出的一个哲学观点：“每个系统中存在一个最基本的命题，它不能被违背或删除。” \n",
            "\n",
            "这个名词被炒得很火主要得益于“钢铁侠”埃隆·马斯克(特斯拉汽车CEO)。他曾在采访中提到自己特别推崇“第一性原理”思考法：“通过第一性原理，我把事情升华到最根本的真理，然后从最核心处开始推理......”\n",
            "Human: 这位哲学家的最大成就是什么？\u001b[0m\n",
            "\n",
            "\u001b[1m> Finished chain.\u001b[0m\n"
          ]
        },
        {
          "data": {
            "text/plain": [
              "'亚里士多德是古希腊哲学家，他在哲学上最大的贡献在于创立了形式逻辑这一重要分支学科。逻辑思维是亚里士多德在众多领域建树卓越的支柱，这种思维方式自始至终贯穿于他的研究、统计和思考之中。\\n\\n除此之外，他还是一位杰出的科学家，对物理学、生物学、植物学、动物学、解剖学、伦理学等领域都有很大的贡献。'"
            ]
          },
          "execution_count": 40,
          "metadata": {},
          "output_type": "execute_result"
        }
      ],
      "source": [
        "chat_llm_chain.predict(human_input=\"这位哲学家的最大成就是什么？\")"
      ]
    },
    {
      "cell_type": "code",
      "execution_count": null,
      "metadata": {
        "id": "09E1V8HOikF1",
        "outputId": "34b4e933-6d9f-49bd-8b56-cf870eb75743"
      },
      "outputs": [
        {
          "name": "stdout",
          "output_type": "stream",
          "text": [
            "\n",
            "\n",
            "\u001b[1m> Entering new LLMChain chain...\u001b[0m\n",
            "Prompt after formatting:\n",
            "\u001b[32;1m\u001b[1;3mHuman: 你是谁？\n",
            "AI: 您好，我是科大讯飞研发的认知智能大模型，我的名字叫讯飞星火认知大模型。我可以和人类进行自然交流，解答问题，高效完成各领域认知智能需求。\n",
            "Human: 请解释第一性原理\n",
            "AI: 第一性原理是指，回归事物最基本的条件，将其拆分成各要素进行解构分析，从而找到实现目标最优路径的方法。  该原理源于古希腊哲学家亚里士多德提出的一个哲学观点：“每个系统中存在一个最基本的命题，它不能被违背或删除。” \n",
            "\n",
            "这个名词被炒得很火主要得益于“钢铁侠”埃隆·马斯克(特斯拉汽车CEO)。他曾在采访中提到自己特别推崇“第一性原理”思考法：“通过第一性原理，我把事情升华到最根本的真理，然后从最核心处开始推理......”\n",
            "Human: 这位哲学家的最大成就是什么？\n",
            "AI: 亚里士多德是古希腊哲学家，他在哲学上最大的贡献在于创立了形式逻辑这一重要分支学科。逻辑思维是亚里士多德在众多领域建树卓越的支柱，这种思维方式自始至终贯穿于他的研究、统计和思考之中。\n",
            "\n",
            "除此之外，他还是一位杰出的科学家，对物理学、生物学、植物学、动物学、解剖学、伦理学等领域都有很大的贡献。\n",
            "Human: 他在心理学方面的贡献是什么？\u001b[0m\n",
            "\n",
            "\u001b[1m> Finished chain.\u001b[0m\n"
          ]
        },
        {
          "data": {
            "text/plain": [
              "'亚里士多德在心理学方面的贡献是他对人类思维和行为的研究。他认为，人的思想和行为是由身体、情感和精神三部分组成的，这三部分相互作用，共同影响着人的行为。\\n\\n此外，亚里士多德还提出了一种被称为“幸福学”的学科，它研究的是人的幸福和快乐。'"
            ]
          },
          "execution_count": 41,
          "metadata": {},
          "output_type": "execute_result"
        }
      ],
      "source": [
        "chat_llm_chain.predict(human_input=\"他在心理学方面的贡献是什么？\")"
      ]
    },
    {
      "cell_type": "code",
      "execution_count": null,
      "metadata": {
        "id": "nJLamHmJikF1",
        "outputId": "47f334ea-92bf-4c35-f5d0-c54e968dfc94"
      },
      "outputs": [
        {
          "name": "stdout",
          "output_type": "stream",
          "text": [
            "\n",
            "\n",
            "\u001b[1m> Entering new LLMChain chain...\u001b[0m\n",
            "Prompt after formatting:\n",
            "\u001b[32;1m\u001b[1;3mHuman: 你是谁？\n",
            "AI: 您好，我是科大讯飞研发的认知智能大模型，我的名字叫讯飞星火认知大模型。我可以和人类进行自然交流，解答问题，高效完成各领域认知智能需求。\n",
            "Human: 请解释第一性原理\n",
            "AI: 第一性原理是指，回归事物最基本的条件，将其拆分成各要素进行解构分析，从而找到实现目标最优路径的方法。  该原理源于古希腊哲学家亚里士多德提出的一个哲学观点：“每个系统中存在一个最基本的命题，它不能被违背或删除。” \n",
            "\n",
            "这个名词被炒得很火主要得益于“钢铁侠”埃隆·马斯克(特斯拉汽车CEO)。他曾在采访中提到自己特别推崇“第一性原理”思考法：“通过第一性原理，我把事情升华到最根本的真理，然后从最核心处开始推理......”\n",
            "Human: 这位哲学家的最大成就是什么？\n",
            "AI: 亚里士多德是古希腊哲学家，他在哲学上最大的贡献在于创立了形式逻辑这一重要分支学科。逻辑思维是亚里士多德在众多领域建树卓越的支柱，这种思维方式自始至终贯穿于他的研究、统计和思考之中。\n",
            "\n",
            "除此之外，他还是一位杰出的科学家，对物理学、生物学、植物学、动物学、解剖学、伦理学等领域都有很大的贡献。\n",
            "Human: 他在心理学方面的贡献是什么？\n",
            "AI: 亚里士多德在心理学方面的贡献是他对人类思维和行为的研究。他认为，人的思想和行为是由身体、情感和精神三部分组成的，这三部分相互作用，共同影响着人的行为。\n",
            "\n",
            "此外，亚里士多德还提出了一种被称为“幸福学”的学科，它研究的是人的幸福和快乐。\n",
            "Human: 哪里能买到这本书？\u001b[0m\n",
            "\n",
            "\u001b[1m> Finished chain.\u001b[0m\n"
          ]
        },
        {
          "data": {
            "text/plain": [
              "'您好！您可以在当地的书店或者网上购买亚里士多德的心理学著作。以下是一些可能有用的链接：\\n\\n- 当当网\\n- 京东'"
            ]
          },
          "execution_count": 42,
          "metadata": {},
          "output_type": "execute_result"
        }
      ],
      "source": [
        "chat_llm_chain.predict(human_input=\"哪里能买到这本书？\")"
      ]
    },
    {
      "cell_type": "markdown",
      "source": [
        "## 示例3 - 图片理解\n",
        "\n",
        "我们尝试利用Spark API Gateway向星火认知大模型询问图片中的数据。\n",
        "\n",
        "参考图片：[https://pbs.twimg.com/media/F_c_hrGWcAA3w0p?format=jpg&name=medium](https://pbs.twimg.com/media/F_c_hrGWcAA3w0p?format=jpg&name=medium)"
      ],
      "metadata": {
        "id": "TC4KjIXvl19F"
      }
    },
    {
      "cell_type": "code",
      "source": [
        "import os\n",
        "\n",
        "from langchain.chat_models import ChatOpenAI\n",
        "from langchain.schema.messages import HumanMessage\n",
        "\n",
        "def summarize(image_url: str, client: ChatOpenAI, prompt = None):\n",
        "    # gpt4 vision api doc - https://platform.openai.com/docs/guides/vision\n",
        "    response = client.invoke(\n",
        "        [\n",
        "            HumanMessage(\n",
        "                content=[\n",
        "                    {\n",
        "                        \"type\": \"image_url\",\n",
        "                        \"image_url\": {\"url\": image_url},\n",
        "                    },\n",
        "                    {\n",
        "                        \"type\": \"text\",\n",
        "                        \"text\": prompt\n",
        "                    }\n",
        "                ]\n",
        "            )\n",
        "        ]\n",
        "    )\n",
        "    return response.content"
      ],
      "metadata": {
        "id": "WWh1q35Kncfq"
      },
      "execution_count": 20,
      "outputs": []
    },
    {
      "cell_type": "code",
      "source": [
        "os.environ['OPENAI_API_KEY'] = '您的有效OpenAI API Key'"
      ],
      "metadata": {
        "id": "u7pmFnf_ojfs"
      },
      "execution_count": 4,
      "outputs": []
    },
    {
      "cell_type": "code",
      "source": [
        "image_url = \"https://pbs.twimg.com/media/F_c_hrGWcAA3w0p?format=jpg&name=medium\"\n",
        "query = \"图里的车是什么品牌，什么颜色？\""
      ],
      "metadata": {
        "id": "VlmbGstBqUzv"
      },
      "execution_count": 24,
      "outputs": []
    },
    {
      "cell_type": "code",
      "source": [
        "client = ChatOpenAI(model=\"gpt-4-vision-preview\", max_tokens=1000)\n",
        "summary = summarize(image_url, client, query)"
      ],
      "metadata": {
        "id": "m1O19agyn5rE"
      },
      "execution_count": 27,
      "outputs": []
    },
    {
      "cell_type": "code",
      "source": [
        "summary"
      ],
      "metadata": {
        "id": "hJ9216ywo3wC",
        "outputId": "b6a51f8e-4a4e-480b-cfa4-1c5855bdf0d9",
        "colab": {
          "base_uri": "https://localhost:8080/",
          "height": 36
        }
      },
      "execution_count": 28,
      "outputs": [
        {
          "output_type": "execute_result",
          "data": {
            "text/plain": [
              "'图片中的车是宝马（BMW）品牌，颜色是蓝色。'"
            ],
            "application/vnd.google.colaboratory.intrinsic+json": {
              "type": "string"
            }
          },
          "metadata": {},
          "execution_count": 28
        }
      ]
    },
    {
      "cell_type": "code",
      "source": [
        "client = ChatOpenAI(openai_api_base=\"https://sparkai-gateway.vercel.app/v1/\", model=\"vision\", max_tokens=1000)\n",
        "summary = summarize(image_url, client, query)"
      ],
      "metadata": {
        "id": "Vk-oH1J2oCtn"
      },
      "execution_count": 25,
      "outputs": []
    },
    {
      "cell_type": "code",
      "source": [
        "summary"
      ],
      "metadata": {
        "id": "BO7UPzMTuOaM",
        "outputId": "245f25a8-a544-4121-d923-42f9a0a5f9c5",
        "colab": {
          "base_uri": "https://localhost:8080/",
          "height": 36
        }
      },
      "execution_count": 26,
      "outputs": [
        {
          "output_type": "execute_result",
          "data": {
            "text/plain": [
              "'图中的车是宝马，颜色是蓝色。'"
            ],
            "application/vnd.google.colaboratory.intrinsic+json": {
              "type": "string"
            }
          },
          "metadata": {},
          "execution_count": 26
        }
      ]
    }
  ],
  "metadata": {
    "kernelspec": {
      "display_name": "base",
      "language": "python",
      "name": "python3"
    },
    "language_info": {
      "codemirror_mode": {
        "name": "ipython",
        "version": 3
      },
      "file_extension": ".py",
      "mimetype": "text/x-python",
      "name": "python",
      "nbconvert_exporter": "python",
      "pygments_lexer": "ipython3",
      "version": "3.11.4"
    },
    "orig_nbformat": 4,
    "colab": {
      "provenance": []
    }
  },
  "nbformat": 4,
  "nbformat_minor": 0
}